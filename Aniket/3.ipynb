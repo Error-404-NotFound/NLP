{
 "cells": [
  {
   "cell_type": "code",
   "execution_count": 1,
   "id": "30e39143",
   "metadata": {},
   "outputs": [],
   "source": [
    "text =\"phone number is 111-222-3456\""
   ]
  },
  {
   "cell_type": "code",
   "execution_count": 2,
   "id": "4eef88e4",
   "metadata": {},
   "outputs": [
    {
     "data": {
      "text/plain": [
       "True"
      ]
     },
     "execution_count": 2,
     "metadata": {},
     "output_type": "execute_result"
    }
   ],
   "source": [
    "\"phone\" in text"
   ]
  },
  {
   "cell_type": "code",
   "execution_count": 3,
   "id": "76cef731",
   "metadata": {},
   "outputs": [],
   "source": [
    "import re"
   ]
  },
  {
   "cell_type": "code",
   "execution_count": 4,
   "id": "c02461c1",
   "metadata": {},
   "outputs": [],
   "source": [
    "pattern =\"phone\""
   ]
  },
  {
   "cell_type": "code",
   "execution_count": 5,
   "id": "5227a696",
   "metadata": {},
   "outputs": [
    {
     "data": {
      "text/plain": [
       "<re.Match object; span=(0, 5), match='phone'>"
      ]
     },
     "execution_count": 5,
     "metadata": {},
     "output_type": "execute_result"
    }
   ],
   "source": [
    "re.search(pattern,text)"
   ]
  },
  {
   "cell_type": "code",
   "execution_count": 6,
   "id": "50a434bc",
   "metadata": {},
   "outputs": [],
   "source": [
    "match=re.search(pattern,text)"
   ]
  },
  {
   "cell_type": "code",
   "execution_count": 7,
   "id": "39f8a61c",
   "metadata": {},
   "outputs": [
    {
     "data": {
      "text/plain": [
       "(0, 5)"
      ]
     },
     "execution_count": 7,
     "metadata": {},
     "output_type": "execute_result"
    }
   ],
   "source": [
    "match.span()"
   ]
  },
  {
   "cell_type": "code",
   "execution_count": 8,
   "id": "c336fc62",
   "metadata": {},
   "outputs": [
    {
     "data": {
      "text/plain": [
       "0"
      ]
     },
     "execution_count": 8,
     "metadata": {},
     "output_type": "execute_result"
    }
   ],
   "source": [
    "match.start()"
   ]
  },
  {
   "cell_type": "code",
   "execution_count": 9,
   "id": "805dfea2",
   "metadata": {},
   "outputs": [
    {
     "data": {
      "text/plain": [
       "5"
      ]
     },
     "execution_count": 9,
     "metadata": {},
     "output_type": "execute_result"
    }
   ],
   "source": [
    "match.end()"
   ]
  },
  {
   "cell_type": "code",
   "execution_count": 10,
   "id": "99595dee",
   "metadata": {},
   "outputs": [],
   "source": [
    "text1=\"phone number is a phone number\""
   ]
  },
  {
   "cell_type": "code",
   "execution_count": 11,
   "id": "5fe111ed",
   "metadata": {},
   "outputs": [],
   "source": [
    "match1=re.search(pattern,text1)"
   ]
  },
  {
   "cell_type": "code",
   "execution_count": 12,
   "id": "fb6010ce",
   "metadata": {},
   "outputs": [
    {
     "data": {
      "text/plain": [
       "(0, 5)"
      ]
     },
     "execution_count": 12,
     "metadata": {},
     "output_type": "execute_result"
    }
   ],
   "source": [
    "match1.span()"
   ]
  },
  {
   "cell_type": "code",
   "execution_count": 13,
   "id": "c41007e0",
   "metadata": {},
   "outputs": [],
   "source": [
    "match2=re.findall(pattern,text1)"
   ]
  },
  {
   "cell_type": "code",
   "execution_count": 14,
   "id": "c8e34a79",
   "metadata": {},
   "outputs": [
    {
     "data": {
      "text/plain": [
       "['phone', 'phone']"
      ]
     },
     "execution_count": 14,
     "metadata": {},
     "output_type": "execute_result"
    }
   ],
   "source": [
    "match2"
   ]
  },
  {
   "cell_type": "code",
   "execution_count": 15,
   "id": "4574f6a5",
   "metadata": {},
   "outputs": [
    {
     "data": {
      "text/plain": [
       "2"
      ]
     },
     "execution_count": 15,
     "metadata": {},
     "output_type": "execute_result"
    }
   ],
   "source": [
    "len(match2)"
   ]
  },
  {
   "cell_type": "code",
   "execution_count": 16,
   "id": "6afb8edb",
   "metadata": {},
   "outputs": [
    {
     "name": "stdout",
     "output_type": "stream",
     "text": [
      "(0, 5)\n",
      "(18, 23)\n"
     ]
    }
   ],
   "source": [
    "for m in re.finditer(pattern,text1):\n",
    "    print(m.span())"
   ]
  },
  {
   "cell_type": "code",
   "execution_count": 17,
   "id": "1d4de181",
   "metadata": {},
   "outputs": [
    {
     "data": {
      "text/plain": [
       "'phone number is 111-222-3456'"
      ]
     },
     "execution_count": 17,
     "metadata": {},
     "output_type": "execute_result"
    }
   ],
   "source": [
    "text"
   ]
  },
  {
   "cell_type": "code",
   "execution_count": 18,
   "id": "f3ebfab1",
   "metadata": {},
   "outputs": [],
   "source": [
    "pattern1=r\"\\d{3}-\\d{3}-\\d{4}\"\n",
    "pattern2=r\"\\d\\d\\d-\\d\\d\\d-\\d\\d\\d\\d\""
   ]
  },
  {
   "cell_type": "code",
   "execution_count": 19,
   "id": "4e955e69",
   "metadata": {},
   "outputs": [],
   "source": [
    "phone1=re.search(pattern1,text)\n",
    "phone2=re.search(pattern2,text)"
   ]
  },
  {
   "cell_type": "code",
   "execution_count": 20,
   "id": "be042f31",
   "metadata": {},
   "outputs": [
    {
     "data": {
      "text/plain": [
       "<re.Match object; span=(16, 28), match='111-222-3456'>"
      ]
     },
     "execution_count": 20,
     "metadata": {},
     "output_type": "execute_result"
    }
   ],
   "source": [
    "phone1"
   ]
  },
  {
   "cell_type": "code",
   "execution_count": 21,
   "id": "7d6f7c10",
   "metadata": {},
   "outputs": [
    {
     "data": {
      "text/plain": [
       "<re.Match object; span=(16, 28), match='111-222-3456'>"
      ]
     },
     "execution_count": 21,
     "metadata": {},
     "output_type": "execute_result"
    }
   ],
   "source": [
    "phone2"
   ]
  },
  {
   "cell_type": "code",
   "execution_count": 22,
   "id": "8e316b3d",
   "metadata": {},
   "outputs": [
    {
     "data": {
      "text/plain": [
       "'111-222-3456'"
      ]
     },
     "execution_count": 22,
     "metadata": {},
     "output_type": "execute_result"
    }
   ],
   "source": [
    "phone1.group()"
   ]
  },
  {
   "cell_type": "code",
   "execution_count": 23,
   "id": "2a572145",
   "metadata": {},
   "outputs": [],
   "source": [
    "text2=\"old phone no is 123-123-1234. New phone no is 123-123-2345\""
   ]
  },
  {
   "cell_type": "code",
   "execution_count": 24,
   "id": "87b6b8df",
   "metadata": {},
   "outputs": [],
   "source": [
    "phone3=re.search(pattern1,text2)"
   ]
  },
  {
   "cell_type": "code",
   "execution_count": 25,
   "id": "86316dbd",
   "metadata": {},
   "outputs": [
    {
     "data": {
      "text/plain": [
       "(16, 28)"
      ]
     },
     "execution_count": 25,
     "metadata": {},
     "output_type": "execute_result"
    }
   ],
   "source": [
    "phone3.span()"
   ]
  },
  {
   "cell_type": "code",
   "execution_count": 26,
   "id": "f99b7ce7",
   "metadata": {},
   "outputs": [],
   "source": [
    "phone4=re.findall(pattern1,text2)"
   ]
  },
  {
   "cell_type": "code",
   "execution_count": 27,
   "id": "2ffb37f8",
   "metadata": {},
   "outputs": [
    {
     "data": {
      "text/plain": [
       "['123-123-1234', '123-123-2345']"
      ]
     },
     "execution_count": 27,
     "metadata": {},
     "output_type": "execute_result"
    }
   ],
   "source": [
    "phone4"
   ]
  },
  {
   "cell_type": "code",
   "execution_count": 28,
   "id": "c00979e3",
   "metadata": {},
   "outputs": [
    {
     "data": {
      "text/plain": [
       "2"
      ]
     },
     "execution_count": 28,
     "metadata": {},
     "output_type": "execute_result"
    }
   ],
   "source": [
    "len(phone4)"
   ]
  },
  {
   "cell_type": "code",
   "execution_count": 29,
   "id": "817696c8",
   "metadata": {},
   "outputs": [
    {
     "name": "stdout",
     "output_type": "stream",
     "text": [
      "(16, 28)\n",
      "123-123-1234\n",
      "(46, 58)\n",
      "123-123-2345\n"
     ]
    }
   ],
   "source": [
    "for p in re.finditer(pattern1,text2):\n",
    "    print(p.span())\n",
    "    print(p.group())"
   ]
  },
  {
   "cell_type": "code",
   "execution_count": null,
   "id": "abade3e6",
   "metadata": {},
   "outputs": [],
   "source": []
  },
  {
   "cell_type": "code",
   "execution_count": 30,
   "id": "e76e7c2e",
   "metadata": {},
   "outputs": [],
   "source": [
    "pattern5=r\"(\\d{3})-(\\d{3})-(\\d{4})\""
   ]
  },
  {
   "cell_type": "code",
   "execution_count": 31,
   "id": "469bbe20",
   "metadata": {},
   "outputs": [],
   "source": [
    "phone5=re.search(pattern5,text)"
   ]
  },
  {
   "cell_type": "code",
   "execution_count": 32,
   "id": "47914483",
   "metadata": {},
   "outputs": [
    {
     "data": {
      "text/plain": [
       "'111'"
      ]
     },
     "execution_count": 32,
     "metadata": {},
     "output_type": "execute_result"
    }
   ],
   "source": [
    "phone5.group(1)"
   ]
  },
  {
   "cell_type": "code",
   "execution_count": 33,
   "id": "754d331d",
   "metadata": {},
   "outputs": [
    {
     "data": {
      "text/plain": [
       "<re.Match object; span=(10, 13), match='man'>"
      ]
     },
     "execution_count": 33,
     "metadata": {},
     "output_type": "execute_result"
    }
   ],
   "source": [
    "re.search(r\"man|women\",\"This is a man\")"
   ]
  },
  {
   "cell_type": "code",
   "execution_count": 34,
   "id": "3d0b864d",
   "metadata": {},
   "outputs": [
    {
     "data": {
      "text/plain": [
       "['cat', 'sat', 'hat']"
      ]
     },
     "execution_count": 34,
     "metadata": {},
     "output_type": "execute_result"
    }
   ],
   "source": [
    "re.findall(r\".at\",\"The cat sat in the hat\")"
   ]
  },
  {
   "cell_type": "code",
   "execution_count": 37,
   "id": "ff9a62cb",
   "metadata": {},
   "outputs": [
    {
     "data": {
      "text/plain": [
       "[]"
      ]
     },
     "execution_count": 37,
     "metadata": {},
     "output_type": "execute_result"
    }
   ],
   "source": [
    "re.findall(r\"\\d$\",\"This 2 is a number\")"
   ]
  },
  {
   "cell_type": "code",
   "execution_count": 38,
   "id": "2546d840",
   "metadata": {},
   "outputs": [
    {
     "data": {
      "text/plain": [
       "['2']"
      ]
     },
     "execution_count": 38,
     "metadata": {},
     "output_type": "execute_result"
    }
   ],
   "source": [
    "re.findall(r\"\\d$\",\"This is 2\")"
   ]
  },
  {
   "cell_type": "code",
   "execution_count": 39,
   "id": "ee9640f3",
   "metadata": {},
   "outputs": [
    {
     "data": {
      "text/plain": [
       "['1']"
      ]
     },
     "execution_count": 39,
     "metadata": {},
     "output_type": "execute_result"
    }
   ],
   "source": [
    "re.findall(r\"^\\d\",\"1 is a number\")"
   ]
  },
  {
   "cell_type": "code",
   "execution_count": 40,
   "id": "8b891485",
   "metadata": {},
   "outputs": [],
   "source": [
    "phrase = \"There are 345 number 324 in 34 the sentence\""
   ]
  },
  {
   "cell_type": "code",
   "execution_count": 42,
   "id": "e398e4bf",
   "metadata": {},
   "outputs": [
    {
     "data": {
      "text/plain": [
       "['There are ', ' number ', ' in ', ' the sentence']"
      ]
     },
     "execution_count": 42,
     "metadata": {},
     "output_type": "execute_result"
    }
   ],
   "source": [
    "re.findall(r\"[^\\d]+\",phrase)"
   ]
  },
  {
   "cell_type": "code",
   "execution_count": 43,
   "id": "5641e3ca",
   "metadata": {},
   "outputs": [],
   "source": [
    "#remove punctuation in a sentence in nlp\n",
    "test=\"This.is,a,.,.string!!\""
   ]
  },
  {
   "cell_type": "code",
   "execution_count": 46,
   "id": "51779ab1",
   "metadata": {},
   "outputs": [],
   "source": [
    "mylist=re.findall(r\"[^!.,]+\",test)"
   ]
  },
  {
   "cell_type": "code",
   "execution_count": 47,
   "id": "d739080c",
   "metadata": {},
   "outputs": [
    {
     "data": {
      "text/plain": [
       "['This', 'is', 'a', 'string']"
      ]
     },
     "execution_count": 47,
     "metadata": {},
     "output_type": "execute_result"
    }
   ],
   "source": [
    "mylist"
   ]
  },
  {
   "cell_type": "code",
   "execution_count": 50,
   "id": "9daa1280",
   "metadata": {},
   "outputs": [
    {
     "data": {
      "text/plain": [
       "'This is a string'"
      ]
     },
     "execution_count": 50,
     "metadata": {},
     "output_type": "execute_result"
    }
   ],
   "source": [
    "' '.join(mylist)"
   ]
  },
  {
   "cell_type": "code",
   "execution_count": 56,
   "id": "338eb7a5",
   "metadata": {},
   "outputs": [],
   "source": [
    "test1=\"Hypen-words - are--the craziest.\""
   ]
  },
  {
   "cell_type": "code",
   "execution_count": 62,
   "id": "f9e5acfb",
   "metadata": {},
   "outputs": [
    {
     "data": {
      "text/plain": [
       "['Hypen-words']"
      ]
     },
     "execution_count": 62,
     "metadata": {},
     "output_type": "execute_result"
    }
   ],
   "source": [
    "re.findall(r\"[\\w]+-[\\w]+\",test1)"
   ]
  },
  {
   "cell_type": "code",
   "execution_count": null,
   "id": "c3c62299",
   "metadata": {},
   "outputs": [],
   "source": []
  }
 ],
 "metadata": {
  "kernelspec": {
   "display_name": "Python 3 (ipykernel)",
   "language": "python",
   "name": "python3"
  },
  "language_info": {
   "codemirror_mode": {
    "name": "ipython",
    "version": 3
   },
   "file_extension": ".py",
   "mimetype": "text/x-python",
   "name": "python",
   "nbconvert_exporter": "python",
   "pygments_lexer": "ipython3",
   "version": "3.7.16"
  }
 },
 "nbformat": 4,
 "nbformat_minor": 5
}
