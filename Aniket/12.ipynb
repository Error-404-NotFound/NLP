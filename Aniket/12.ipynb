{
 "cells": [
  {
   "cell_type": "code",
   "execution_count": 32,
   "id": "4108619e",
   "metadata": {},
   "outputs": [],
   "source": [
    "import spacy"
   ]
  },
  {
   "cell_type": "code",
   "execution_count": 33,
   "id": "08d5aa66",
   "metadata": {},
   "outputs": [],
   "source": [
    "nlp=spacy.load(\"en_core_web_sm\")"
   ]
  },
  {
   "cell_type": "code",
   "execution_count": 34,
   "id": "f28531aa",
   "metadata": {},
   "outputs": [],
   "source": [
    "def show_ents(doc):\n",
    "    if doc.ents:\n",
    "        for ent in doc.ents:\n",
    "            print(ent.text+\" - \"+ent.label_+\" - \"+str(spacy.explain(ent.label_)))\n",
    "    else:\n",
    "        print(\"No entities found.\")"
   ]
  },
  {
   "cell_type": "code",
   "execution_count": 35,
   "id": "2a9c85ef",
   "metadata": {},
   "outputs": [],
   "source": [
    "doc=nlp(u\"Hi how are you?\")"
   ]
  },
  {
   "cell_type": "code",
   "execution_count": 36,
   "id": "bf32877b",
   "metadata": {},
   "outputs": [
    {
     "name": "stdout",
     "output_type": "stream",
     "text": [
      "No entities found.\n"
     ]
    }
   ],
   "source": [
    "show_ents(doc)"
   ]
  },
  {
   "cell_type": "code",
   "execution_count": 37,
   "id": "8a9104fe",
   "metadata": {},
   "outputs": [],
   "source": [
    "doc1=nlp(u\"May I go to New Delhi next November to see the Qutub Minar?\")"
   ]
  },
  {
   "cell_type": "code",
   "execution_count": 38,
   "id": "4e3b0c1c",
   "metadata": {},
   "outputs": [
    {
     "name": "stdout",
     "output_type": "stream",
     "text": [
      "New Delhi - GPE - Countries, cities, states\n",
      "next November - DATE - Absolute or relative dates or periods\n",
      "the Qutub Minar - PERSON - People, including fictional\n"
     ]
    }
   ],
   "source": [
    "show_ents(doc1)"
   ]
  },
  {
   "cell_type": "code",
   "execution_count": 39,
   "id": "43898c2c",
   "metadata": {},
   "outputs": [],
   "source": [
    "doc3=nlp(u\"Can I please have 10000 Rupees of Amazon stock?\")"
   ]
  },
  {
   "cell_type": "code",
   "execution_count": 40,
   "id": "25637c4c",
   "metadata": {},
   "outputs": [
    {
     "name": "stdout",
     "output_type": "stream",
     "text": [
      "10000 - CARDINAL - Numerals that do not fall under another type\n",
      "Rupees - ORG - Companies, agencies, institutions, etc.\n",
      "Amazon - ORG - Companies, agencies, institutions, etc.\n"
     ]
    }
   ],
   "source": [
    "show_ents(doc3)"
   ]
  },
  {
   "cell_type": "code",
   "execution_count": 41,
   "id": "75e22e86",
   "metadata": {},
   "outputs": [],
   "source": [
    "doc4=nlp(u\"Tesla to built a U.K. factory for $6 million.\")"
   ]
  },
  {
   "cell_type": "code",
   "execution_count": 42,
   "id": "c19a1944",
   "metadata": {},
   "outputs": [
    {
     "name": "stdout",
     "output_type": "stream",
     "text": [
      "U.K. - GPE - Countries, cities, states\n",
      "$6 million - MONEY - Monetary values, including unit\n"
     ]
    }
   ],
   "source": [
    "show_ents(doc4)"
   ]
  },
  {
   "cell_type": "code",
   "execution_count": 43,
   "id": "27ff6754",
   "metadata": {},
   "outputs": [],
   "source": [
    "from spacy.tokens import Span"
   ]
  },
  {
   "cell_type": "code",
   "execution_count": 44,
   "id": "33e12310",
   "metadata": {},
   "outputs": [],
   "source": [
    "ORG=doc4.vocab.strings[u\"ORG\"]"
   ]
  },
  {
   "cell_type": "code",
   "execution_count": 45,
   "id": "d0cbc831",
   "metadata": {},
   "outputs": [
    {
     "data": {
      "text/plain": [
       "381"
      ]
     },
     "execution_count": 45,
     "metadata": {},
     "output_type": "execute_result"
    }
   ],
   "source": [
    "ORG"
   ]
  },
  {
   "cell_type": "code",
   "execution_count": 46,
   "id": "487dc1cd",
   "metadata": {},
   "outputs": [],
   "source": [
    "new_ent = Span(doc4,0,1,label=ORG)"
   ]
  },
  {
   "cell_type": "code",
   "execution_count": 47,
   "id": "49c353f9",
   "metadata": {},
   "outputs": [],
   "source": [
    "doc4.ents=list(doc4.ents)+[new_ent]"
   ]
  },
  {
   "cell_type": "code",
   "execution_count": 48,
   "id": "c5d75850",
   "metadata": {},
   "outputs": [
    {
     "name": "stdout",
     "output_type": "stream",
     "text": [
      "Tesla - ORG - Companies, agencies, institutions, etc.\n",
      "U.K. - GPE - Countries, cities, states\n",
      "$6 million - MONEY - Monetary values, including unit\n"
     ]
    }
   ],
   "source": [
    "show_ents(doc4)"
   ]
  },
  {
   "cell_type": "code",
   "execution_count": 49,
   "id": "f069bbe9",
   "metadata": {},
   "outputs": [],
   "source": [
    "doc5=nlp(u\"Our company created a brand new vacuum cleaner.\" u\"This new vacuum-cleaner is the best in show.\")"
   ]
  },
  {
   "cell_type": "code",
   "execution_count": 50,
   "id": "c7cd616b",
   "metadata": {},
   "outputs": [
    {
     "name": "stdout",
     "output_type": "stream",
     "text": [
      "No entities found.\n"
     ]
    }
   ],
   "source": [
    "show_ents(doc5)"
   ]
  },
  {
   "cell_type": "code",
   "execution_count": 51,
   "id": "d47f4fc3",
   "metadata": {},
   "outputs": [],
   "source": [
    "from spacy.matcher import PhraseMatcher"
   ]
  },
  {
   "cell_type": "code",
   "execution_count": 52,
   "id": "26d5b9c5",
   "metadata": {},
   "outputs": [],
   "source": [
    "matcher=PhraseMatcher(nlp.vocab)"
   ]
  },
  {
   "cell_type": "code",
   "execution_count": 53,
   "id": "c3c134ae",
   "metadata": {},
   "outputs": [],
   "source": [
    "phrase_list=[\"vacuum cleaner\",\"vacuum-cleaner\"]"
   ]
  },
  {
   "cell_type": "code",
   "execution_count": 54,
   "id": "d82cc6d7",
   "metadata": {},
   "outputs": [],
   "source": [
    "phrase_pattern=[nlp(text) for text in phrase_list]"
   ]
  },
  {
   "cell_type": "code",
   "execution_count": 55,
   "id": "d9758ed0",
   "metadata": {},
   "outputs": [],
   "source": [
    "matcher.add(\"newproduct\",None,*phrase_pattern)"
   ]
  },
  {
   "cell_type": "code",
   "execution_count": 56,
   "id": "e835a248",
   "metadata": {},
   "outputs": [],
   "source": [
    "found_matchers=matcher(doc5)"
   ]
  },
  {
   "cell_type": "code",
   "execution_count": 57,
   "id": "96a7eb19",
   "metadata": {},
   "outputs": [
    {
     "data": {
      "text/plain": [
       "[(2689272359382549672, 6, 8), (2689272359382549672, 11, 14)]"
      ]
     },
     "execution_count": 57,
     "metadata": {},
     "output_type": "execute_result"
    }
   ],
   "source": [
    "found_matchers"
   ]
  },
  {
   "cell_type": "code",
   "execution_count": 59,
   "id": "ebde79b5",
   "metadata": {},
   "outputs": [],
   "source": [
    "from spacy.tokens import Span"
   ]
  },
  {
   "cell_type": "code",
   "execution_count": 60,
   "id": "f68aa15f",
   "metadata": {},
   "outputs": [],
   "source": [
    "PRODUCT=doc5.vocab.strings[u\"PRODUCT\"]"
   ]
  },
  {
   "cell_type": "code",
   "execution_count": 61,
   "id": "eb5461af",
   "metadata": {},
   "outputs": [],
   "source": [
    "new_ents=[Span(doc5,match[1],match[2],label=PRODUCT) for match in found_matchers]"
   ]
  },
  {
   "cell_type": "code",
   "execution_count": 62,
   "id": "1f591d46",
   "metadata": {},
   "outputs": [],
   "source": [
    "doc5.ents=list(doc5.ents)+new_ents"
   ]
  },
  {
   "cell_type": "code",
   "execution_count": 63,
   "id": "f923b12e",
   "metadata": {},
   "outputs": [
    {
     "name": "stdout",
     "output_type": "stream",
     "text": [
      "vacuum cleaner - PRODUCT - Objects, vehicles, foods, etc. (not services)\n",
      "vacuum-cleaner - PRODUCT - Objects, vehicles, foods, etc. (not services)\n"
     ]
    }
   ],
   "source": [
    "show_ents(doc5)"
   ]
  },
  {
   "cell_type": "code",
   "execution_count": 64,
   "id": "acc39113",
   "metadata": {},
   "outputs": [],
   "source": [
    "doc6=nlp(u\"Originally I paid $29.95 for this car toy, but now it is marked down by $10 dollars.\")"
   ]
  },
  {
   "cell_type": "code",
   "execution_count": 66,
   "id": "73bcb914",
   "metadata": {},
   "outputs": [
    {
     "data": {
      "text/plain": [
       "[29.95, $10 dollars]"
      ]
     },
     "execution_count": 66,
     "metadata": {},
     "output_type": "execute_result"
    }
   ],
   "source": [
    "[ent for ent in doc6.ents if ent.label_==\"MONEY\"]"
   ]
  },
  {
   "cell_type": "code",
   "execution_count": 67,
   "id": "94e7c924",
   "metadata": {},
   "outputs": [
    {
     "data": {
      "text/plain": [
       "2"
      ]
     },
     "execution_count": 67,
     "metadata": {},
     "output_type": "execute_result"
    }
   ],
   "source": [
    "len([ent for ent in doc6.ents if ent.label_==\"MONEY\"])"
   ]
  },
  {
   "cell_type": "code",
   "execution_count": null,
   "id": "e624f25a",
   "metadata": {},
   "outputs": [],
   "source": []
  }
 ],
 "metadata": {
  "kernelspec": {
   "display_name": "Python 3 (ipykernel)",
   "language": "python",
   "name": "python3"
  },
  "language_info": {
   "codemirror_mode": {
    "name": "ipython",
    "version": 3
   },
   "file_extension": ".py",
   "mimetype": "text/x-python",
   "name": "python",
   "nbconvert_exporter": "python",
   "pygments_lexer": "ipython3",
   "version": "3.7.16"
  }
 },
 "nbformat": 4,
 "nbformat_minor": 5
}
