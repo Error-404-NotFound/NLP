{
 "cells": [
  {
   "cell_type": "code",
   "execution_count": 1,
   "id": "bc13286f",
   "metadata": {},
   "outputs": [],
   "source": [
    "import spacy"
   ]
  },
  {
   "cell_type": "code",
   "execution_count": 2,
   "id": "7667c09b",
   "metadata": {},
   "outputs": [],
   "source": [
    "nlp=spacy.load(\"en_core_web_sm\")"
   ]
  },
  {
   "cell_type": "code",
   "execution_count": 3,
   "id": "86e07620",
   "metadata": {},
   "outputs": [
    {
     "name": "stdout",
     "output_type": "stream",
     "text": [
      "{'hereupon', 'name', 'yet', 'get', 'is', 'even', 'since', 'really', 'front', 'seeming', 'together', 'whence', 'whereafter', 'beyond', 'but', 'into', 'somewhere', 'below', 'had', 'become', 'under', 'amongst', 'she', 'whoever', 'something', 'give', 'itself', 'both', 'also', 'wherein', 'who', 'other', 'done', 'upon', 'down', 'others', 'elsewhere', 'from', 'nor', 'he', 'otherwise', 'anyone', 'what', 'twenty', 'anywhere', 'whereby', 'without', 'various', 'move', 'most', 'further', 'much', 'somehow', 'an', 'until', 'may', 'if', 'see', 'for', 'on', 'made', 'sixty', 'became', 'before', 'becomes', 'unless', 'we', 'call', 'did', 'five', 'were', 'yourselves', 'three', 'above', 'themselves', 'his', 'too', 'wherever', 'each', 'due', 'sometime', 'yourself', 'him', 'whom', 'everywhere', 'ten', 'not', 'than', 'during', 'in', 'using', 'via', 'keep', 'nobody', 'well', 'seems', 'by', 'latterly', 'some', 'now', 'therefore', 'though', 'could', 'no', 'serious', 'none', 'here', 'part', 'these', 'whether', 'my', 'except', 'might', 'moreover', 'have', 'at', 'all', 'perhaps', 'their', 'thereby', 'along', 'over', 'herself', 'still', 'behind', 'fifty', 'a', 'very', 'thence', 'throughout', 'else', 'through', 'up', 'quite', 'more', 'six', 'should', 'was', 'anyway', 'latter', 'only', 'yours', 'anything', 'put', 'seem', 'used', 'her', 'where', 'already', 'nowhere', 'thru', 'always', 'has', 'empty', 'hence', 'indeed', 'either', 'go', 'around', 're', 'thus', 'must', 'enough', 'someone', 'to', 'although', 'being', 'towards', 'within', 'nine', 'can', 'or', 'us', 'beforehand', 'meanwhile', 'you', 'doing', 'amount', 'and', 'hereby', 'onto', 'former', 'am', 'anyhow', 'formerly', 'say', 'there', 'with', 'ourselves', 'your', 'everything', 'few', 'hundred', 'me', 'nothing', 'often', 'out', 'top', 'whither', 'make', 'be', 'full', 'so', 'while', 'does', 'it', 'whereas', 'after', 'been', 'next', 'once', 'this', 'noone', 'neither', 'that', 'two', 'whole', 'beside', 'first', 'four', 'please', 'eight', 'ever', 'are', 'namely', 'one', 'same', 'fifteen', 'several', 'sometimes', 'will', 'cannot', 'less', 'take', 'whereupon', 'becoming', 'mine', 'seemed', 'the', 'any', 'nevertheless', 'rather', 'against', 'many', 'between', 'side', 'those', 'ours', 'hereafter', 'whenever', 'himself', 'herein', 'them', 'they', 'how', 'own', 'almost', 'myself', 'such', 'bottom', 'toward', 'least', 'again', 'never', 'third', 'last', 'of', 'as', 'every', 'thereupon', 'why', 'besides', 'among', 'forty', 'then', 'just', 'eleven', 'do', 'off', 'therein', 'afterwards', 'everyone', 'when', 'back', 'mostly', 'our', 'whatever', 'its', 'another', 'per', 'show', 'thereafter', 'twelve', 'regarding', 'across', 'which', 'because', 'i', 'whose', 'about', 'alone', 'however', 'hers', 'would', 'ca'}\n"
     ]
    }
   ],
   "source": [
    "print(nlp.Defaults.stop_words)"
   ]
  },
  {
   "cell_type": "code",
   "execution_count": 4,
   "id": "630f6cbc",
   "metadata": {},
   "outputs": [
    {
     "data": {
      "text/plain": [
       "305"
      ]
     },
     "execution_count": 4,
     "metadata": {},
     "output_type": "execute_result"
    }
   ],
   "source": [
    "len(nlp.Defaults.stop_words)"
   ]
  },
  {
   "cell_type": "code",
   "execution_count": 9,
   "id": "670f48bc",
   "metadata": {},
   "outputs": [
    {
     "data": {
      "text/plain": [
       "False"
      ]
     },
     "execution_count": 9,
     "metadata": {},
     "output_type": "execute_result"
    }
   ],
   "source": [
    "nlp.vocab[\"mystery\"].is_stop"
   ]
  },
  {
   "cell_type": "code",
   "execution_count": 10,
   "id": "18a19a1b",
   "metadata": {},
   "outputs": [],
   "source": [
    "nlp.Defaults.stop_words.add(\"btw\")"
   ]
  },
  {
   "cell_type": "code",
   "execution_count": 12,
   "id": "0a79165b",
   "metadata": {},
   "outputs": [],
   "source": [
    "nlp.vocab[\"btw\"].is_stop = True"
   ]
  },
  {
   "cell_type": "code",
   "execution_count": 13,
   "id": "357da974",
   "metadata": {},
   "outputs": [
    {
     "data": {
      "text/plain": [
       "306"
      ]
     },
     "execution_count": 13,
     "metadata": {},
     "output_type": "execute_result"
    }
   ],
   "source": [
    "len(nlp.Defaults.stop_words)"
   ]
  },
  {
   "cell_type": "code",
   "execution_count": 14,
   "id": "b5086267",
   "metadata": {},
   "outputs": [
    {
     "data": {
      "text/plain": [
       "True"
      ]
     },
     "execution_count": 14,
     "metadata": {},
     "output_type": "execute_result"
    }
   ],
   "source": [
    "nlp.vocab[\"btw\"].is_stop"
   ]
  },
  {
   "cell_type": "code",
   "execution_count": 15,
   "id": "6293c59c",
   "metadata": {},
   "outputs": [],
   "source": [
    "nlp.Defaults.stop_words.remove(\"beyond\")"
   ]
  },
  {
   "cell_type": "code",
   "execution_count": 16,
   "id": "1114a382",
   "metadata": {},
   "outputs": [],
   "source": [
    "nlp.vocab[\"beyond\"].is_stop = False"
   ]
  },
  {
   "cell_type": "code",
   "execution_count": 17,
   "id": "992bc970",
   "metadata": {},
   "outputs": [
    {
     "data": {
      "text/plain": [
       "False"
      ]
     },
     "execution_count": 17,
     "metadata": {},
     "output_type": "execute_result"
    }
   ],
   "source": [
    "nlp.vocab[\"beyond\"].is_stop"
   ]
  },
  {
   "cell_type": "code",
   "execution_count": 18,
   "id": "f5d0bfa0",
   "metadata": {},
   "outputs": [
    {
     "data": {
      "text/plain": [
       "305"
      ]
     },
     "execution_count": 18,
     "metadata": {},
     "output_type": "execute_result"
    }
   ],
   "source": [
    "len(nlp.Defaults.stop_words)"
   ]
  },
  {
   "cell_type": "code",
   "execution_count": 19,
   "id": "46ccc453",
   "metadata": {},
   "outputs": [
    {
     "ename": "TypeError",
     "evalue": "object of type 'type' has no len()",
     "output_type": "error",
     "traceback": [
      "\u001b[0;31m---------------------------------------------------------------------------\u001b[0m",
      "\u001b[0;31mTypeError\u001b[0m                                 Traceback (most recent call last)",
      "\u001b[0;32m/tmp/ipykernel_8077/2968705119.py\u001b[0m in \u001b[0;36m<module>\u001b[0;34m\u001b[0m\n\u001b[0;32m----> 1\u001b[0;31m \u001b[0mlen\u001b[0m\u001b[0;34m(\u001b[0m\u001b[0mnlp\u001b[0m\u001b[0;34m.\u001b[0m\u001b[0mDefaults\u001b[0m\u001b[0;34m)\u001b[0m\u001b[0;34m\u001b[0m\u001b[0;34m\u001b[0m\u001b[0m\n\u001b[0m",
      "\u001b[0;31mTypeError\u001b[0m: object of type 'type' has no len()"
     ]
    }
   ],
   "source": [
    "len(nlp.Defaults)"
   ]
  },
  {
   "cell_type": "code",
   "execution_count": null,
   "id": "ce8a84c6",
   "metadata": {},
   "outputs": [],
   "source": []
  }
 ],
 "metadata": {
  "kernelspec": {
   "display_name": "Python 3 (ipykernel)",
   "language": "python",
   "name": "python3"
  },
  "language_info": {
   "codemirror_mode": {
    "name": "ipython",
    "version": 3
   },
   "file_extension": ".py",
   "mimetype": "text/x-python",
   "name": "python",
   "nbconvert_exporter": "python",
   "pygments_lexer": "ipython3",
   "version": "3.7.16"
  }
 },
 "nbformat": 4,
 "nbformat_minor": 5
}
